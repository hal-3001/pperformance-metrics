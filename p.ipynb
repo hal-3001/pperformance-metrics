{
 "cells": [
  {
   "cell_type": "code",
   "execution_count": 30,
   "metadata": {},
   "outputs": [
    {
     "data": {
      "text/html": [
       "<div>\n",
       "<style scoped>\n",
       "    .dataframe tbody tr th:only-of-type {\n",
       "        vertical-align: middle;\n",
       "    }\n",
       "\n",
       "    .dataframe tbody tr th {\n",
       "        vertical-align: top;\n",
       "    }\n",
       "\n",
       "    .dataframe thead th {\n",
       "        text-align: right;\n",
       "    }\n",
       "</style>\n",
       "<table border=\"1\" class=\"dataframe\">\n",
       "  <thead>\n",
       "    <tr style=\"text-align: right;\">\n",
       "      <th>Symbols</th>\n",
       "      <th>RELIANCE.NS</th>\n",
       "      <th>LT.NS</th>\n",
       "      <th>ADANIPORTS.NS</th>\n",
       "      <th>BRITANNIA.NS</th>\n",
       "      <th>ITC.NS</th>\n",
       "    </tr>\n",
       "    <tr>\n",
       "      <th>Date</th>\n",
       "      <th></th>\n",
       "      <th></th>\n",
       "      <th></th>\n",
       "      <th></th>\n",
       "      <th></th>\n",
       "    </tr>\n",
       "  </thead>\n",
       "  <tbody>\n",
       "    <tr>\n",
       "      <th>2021-05-31</th>\n",
       "      <td>2097.566650</td>\n",
       "      <td>1464.994751</td>\n",
       "      <td>693.996643</td>\n",
       "      <td>3532.419189</td>\n",
       "      <td>188.343079</td>\n",
       "    </tr>\n",
       "    <tr>\n",
       "      <th>2021-06-30</th>\n",
       "      <td>2029.190674</td>\n",
       "      <td>1563.503906</td>\n",
       "      <td>669.859497</td>\n",
       "      <td>3313.436523</td>\n",
       "      <td>195.729950</td>\n",
       "    </tr>\n",
       "    <tr>\n",
       "      <th>2021-07-31</th>\n",
       "      <td>2251.371582</td>\n",
       "      <td>1651.056519</td>\n",
       "      <td>743.151733</td>\n",
       "      <td>3869.095947</td>\n",
       "      <td>201.794281</td>\n",
       "    </tr>\n",
       "    <tr>\n",
       "      <th>2021-08-31</th>\n",
       "      <td>2511.687988</td>\n",
       "      <td>1681.417725</td>\n",
       "      <td>732.823303</td>\n",
       "      <td>3822.105469</td>\n",
       "      <td>225.526352</td>\n",
       "    </tr>\n",
       "    <tr>\n",
       "      <th>2021-09-30</th>\n",
       "      <td>2528.636963</td>\n",
       "      <td>1744.312378</td>\n",
       "      <td>688.232239</td>\n",
       "      <td>3557.680908</td>\n",
       "      <td>213.158936</td>\n",
       "    </tr>\n",
       "    <tr>\n",
       "      <th>2021-10-31</th>\n",
       "      <td>2398.179688</td>\n",
       "      <td>1742.436401</td>\n",
       "      <td>679.145142</td>\n",
       "      <td>3431.614502</td>\n",
       "      <td>211.201157</td>\n",
       "    </tr>\n",
       "    <tr>\n",
       "      <th>2021-11-30</th>\n",
       "      <td>2361.041504</td>\n",
       "      <td>1871.928223</td>\n",
       "      <td>725.275574</td>\n",
       "      <td>3490.171143</td>\n",
       "      <td>208.240631</td>\n",
       "    </tr>\n",
       "    <tr>\n",
       "      <th>2021-12-31</th>\n",
       "      <td>2379.436279</td>\n",
       "      <td>1885.059937</td>\n",
       "      <td>711.371887</td>\n",
       "      <td>3421.742432</td>\n",
       "      <td>210.293900</td>\n",
       "    </tr>\n",
       "    <tr>\n",
       "      <th>2022-01-31</th>\n",
       "      <td>2352.467529</td>\n",
       "      <td>1793.778931</td>\n",
       "      <td>702.632446</td>\n",
       "      <td>3317.356445</td>\n",
       "      <td>206.139603</td>\n",
       "    </tr>\n",
       "    <tr>\n",
       "      <th>2022-02-28</th>\n",
       "      <td>2626.841309</td>\n",
       "      <td>1745.299805</td>\n",
       "      <td>768.873596</td>\n",
       "      <td>3103.406982</td>\n",
       "      <td>244.905365</td>\n",
       "    </tr>\n",
       "    <tr>\n",
       "      <th>2022-03-31</th>\n",
       "      <td>2781.874512</td>\n",
       "      <td>1672.926514</td>\n",
       "      <td>850.508057</td>\n",
       "      <td>3173.916992</td>\n",
       "      <td>253.601379</td>\n",
       "    </tr>\n",
       "    <tr>\n",
       "      <th>2022-04-30</th>\n",
       "      <td>2624.747559</td>\n",
       "      <td>1633.580444</td>\n",
       "      <td>734.759888</td>\n",
       "      <td>3530.628662</td>\n",
       "      <td>264.446991</td>\n",
       "    </tr>\n",
       "    <tr>\n",
       "      <th>2022-05-31</th>\n",
       "      <td>2587.858643</td>\n",
       "      <td>1538.547363</td>\n",
       "      <td>667.426331</td>\n",
       "      <td>3355.055176</td>\n",
       "      <td>273.500000</td>\n",
       "    </tr>\n",
       "    <tr>\n",
       "      <th>2022-06-30</th>\n",
       "      <td>2501.917480</td>\n",
       "      <td>1785.188965</td>\n",
       "      <td>758.445801</td>\n",
       "      <td>3840.230713</td>\n",
       "      <td>303.049988</td>\n",
       "    </tr>\n",
       "    <tr>\n",
       "      <th>2022-07-31</th>\n",
       "      <td>2630.031738</td>\n",
       "      <td>1922.500000</td>\n",
       "      <td>842.150024</td>\n",
       "      <td>3689.935791</td>\n",
       "      <td>320.500000</td>\n",
       "    </tr>\n",
       "    <tr>\n",
       "      <th>2022-08-31</th>\n",
       "      <td>2439.500000</td>\n",
       "      <td>1856.849976</td>\n",
       "      <td>913.799988</td>\n",
       "      <td>3796.699951</td>\n",
       "      <td>346.399994</td>\n",
       "    </tr>\n",
       "    <tr>\n",
       "      <th>2022-09-26</th>\n",
       "      <td>2377.350098</td>\n",
       "      <td>1851.449951</td>\n",
       "      <td>863.400024</td>\n",
       "      <td>3787.500000</td>\n",
       "      <td>332.600006</td>\n",
       "    </tr>\n",
       "  </tbody>\n",
       "</table>\n",
       "</div>"
      ],
      "text/plain": [
       "Symbols     RELIANCE.NS        LT.NS  ADANIPORTS.NS  BRITANNIA.NS      ITC.NS\n",
       "Date                                                                         \n",
       "2021-05-31  2097.566650  1464.994751     693.996643   3532.419189  188.343079\n",
       "2021-06-30  2029.190674  1563.503906     669.859497   3313.436523  195.729950\n",
       "2021-07-31  2251.371582  1651.056519     743.151733   3869.095947  201.794281\n",
       "2021-08-31  2511.687988  1681.417725     732.823303   3822.105469  225.526352\n",
       "2021-09-30  2528.636963  1744.312378     688.232239   3557.680908  213.158936\n",
       "2021-10-31  2398.179688  1742.436401     679.145142   3431.614502  211.201157\n",
       "2021-11-30  2361.041504  1871.928223     725.275574   3490.171143  208.240631\n",
       "2021-12-31  2379.436279  1885.059937     711.371887   3421.742432  210.293900\n",
       "2022-01-31  2352.467529  1793.778931     702.632446   3317.356445  206.139603\n",
       "2022-02-28  2626.841309  1745.299805     768.873596   3103.406982  244.905365\n",
       "2022-03-31  2781.874512  1672.926514     850.508057   3173.916992  253.601379\n",
       "2022-04-30  2624.747559  1633.580444     734.759888   3530.628662  264.446991\n",
       "2022-05-31  2587.858643  1538.547363     667.426331   3355.055176  273.500000\n",
       "2022-06-30  2501.917480  1785.188965     758.445801   3840.230713  303.049988\n",
       "2022-07-31  2630.031738  1922.500000     842.150024   3689.935791  320.500000\n",
       "2022-08-31  2439.500000  1856.849976     913.799988   3796.699951  346.399994\n",
       "2022-09-26  2377.350098  1851.449951     863.400024   3787.500000  332.600006"
      ]
     },
     "execution_count": 30,
     "metadata": {},
     "output_type": "execute_result"
    }
   ],
   "source": [
    "import tools as t\n",
    "\n",
    "tickers = ['RELIANCE.NS', 'LT.NS', 'ADANIPORTS.NS', 'BRITANNIA.NS','ITC.NS']\n",
    "\n",
    "prices=t.get_data(tickers,2)\n",
    "prices\n",
    "\n"
   ]
  },
  {
   "cell_type": "code",
   "execution_count": 31,
   "metadata": {},
   "outputs": [
    {
     "data": {
      "text/plain": [
       "(17, 5)"
      ]
     },
     "execution_count": 31,
     "metadata": {},
     "output_type": "execute_result"
    }
   ],
   "source": [
    "prices.shape"
   ]
  },
  {
   "cell_type": "code",
   "execution_count": 6,
   "metadata": {},
   "outputs": [
    {
     "data": {
      "image/png": "[encoded data removed]",
      "text/plain": [
       "<Figure size 432x288 with 1 Axes>"
      ]
     },
     "metadata": {
      "needs_background": "light"
     },
     "output_type": "display_data"
    }
   ],
   "source": [
    "returns=t.returns(prices)"
   ]
  },
  {
   "cell_type": "code",
   "execution_count": 7,
   "metadata": {},
   "outputs": [
    {
     "data": {
      "text/plain": [
       "Symbols\n",
       "RELIANCE.NS      0.092406\n",
       "LT.NS            0.179699\n",
       "ADANIPORTS.NS    0.166692\n",
       "BRITANNIA.NS     0.050448\n",
       "ITC.NS           0.493941\n",
       "dtype: float64"
      ]
     },
     "execution_count": 7,
     "metadata": {},
     "output_type": "execute_result"
    },
    {
     "data": {
      "image/png": "[encoded data removed]",
      "text/plain": [
       "<Figure size 432x288 with 1 Axes>"
      ]
     },
     "metadata": {
      "needs_background": "light"
     },
     "output_type": "display_data"
    }
   ],
   "source": [
    "\n",
    "\n",
    "ar=t.annualized_returns(returns,12)\n",
    "ar\n"
   ]
  },
  {
   "cell_type": "code",
   "execution_count": 8,
   "metadata": {},
   "outputs": [
    {
     "data": {
      "text/plain": [
       "Symbols\n",
       "RELIANCE.NS      0.215729\n",
       "LT.NS            0.204425\n",
       "ADANIPORTS.NS    0.291039\n",
       "BRITANNIA.NS     0.256264\n",
       "ITC.NS           0.218737\n",
       "dtype: float64"
      ]
     },
     "execution_count": 8,
     "metadata": {},
     "output_type": "execute_result"
    },
    {
     "data": {
      "image/png": "[encoded data removed]",
      "text/plain": [
       "<Figure size 432x288 with 1 Axes>"
      ]
     },
     "metadata": {
      "needs_background": "light"
     },
     "output_type": "display_data"
    }
   ],
   "source": [
    "av=t.annualized_volatility(returns,12)\n",
    "av"
   ]
  },
  {
   "cell_type": "code",
   "execution_count": 25,
   "metadata": {},
   "outputs": [
    {
     "data": {
      "text/plain": [
       "array([9.65931433e-15, 5.52387672e-19, 0.00000000e+00, 1.77358126e-14,\n",
       "       1.00000000e+00])"
      ]
     },
     "execution_count": 25,
     "metadata": {},
     "output_type": "execute_result"
    }
   ],
   "source": [
    "weights_to_acheive_returns=t.minimize_vol(0.5,ar,returns.cov())\n",
    "weights_to_acheive_returns"
   ]
  },
  {
   "cell_type": "code",
   "execution_count": 10,
   "metadata": {},
   "outputs": [
    {
     "data": {
      "text/plain": [
       "0.3500000000009493"
      ]
     },
     "execution_count": 10,
     "metadata": {},
     "output_type": "execute_result"
    }
   ],
   "source": [
    "my_portfolio_returns=t.portfolio_returns(ar,weights_to_acheive_returns)\n",
    "my_portfolio_returns\n"
   ]
  },
  {
   "cell_type": "code",
   "execution_count": 11,
   "metadata": {},
   "outputs": [
    {
     "data": {
      "text/plain": [
       "0.04469376858957934"
      ]
     },
     "execution_count": 11,
     "metadata": {},
     "output_type": "execute_result"
    }
   ],
   "source": [
    "my_portfolio_vol=t.portfolio_volatility(weights_to_acheive_returns,returns.cov())\n",
    "my_portfolio_vol"
   ]
  },
  {
   "cell_type": "code",
   "execution_count": 26,
   "metadata": {},
   "outputs": [
    {
     "data": {
      "text/plain": [
       "7.159834806939049"
      ]
     },
     "execution_count": 26,
     "metadata": {},
     "output_type": "execute_result"
    }
   ],
   "source": [
    "my_portfolio_sharpe=t.portfolio_sharpe(my_portfolio_returns,my_portfolio_vol,0.03)\n",
    "my_portfolio_sharpe"
   ]
  },
  {
   "cell_type": "code",
   "execution_count": 13,
   "metadata": {},
   "outputs": [
    {
     "data": {
      "text/plain": [
       "Symbols\n",
       "RELIANCE.NS      0.289909\n",
       "LT.NS            0.722373\n",
       "ADANIPORTS.NS    0.463617\n",
       "BRITANNIA.NS     0.084346\n",
       "ITC.NS           2.076490\n",
       "dtype: float64"
      ]
     },
     "execution_count": 13,
     "metadata": {},
     "output_type": "execute_result"
    },
    {
     "data": {
      "image/png": "[encoded data removed]",
      "text/plain": [
       "<Figure size 432x288 with 1 Axes>"
      ]
     },
     "metadata": {
      "needs_background": "light"
     },
     "output_type": "display_data"
    }
   ],
   "source": [
    "individual_sharpe=t.sharpe_ratio(returns,0.03,12)\n",
    "individual_sharpe"
   ]
  },
  {
   "cell_type": "code",
   "execution_count": 14,
   "metadata": {},
   "outputs": [
    {
     "data": {
      "text/plain": [
       "26.209156104869823"
      ]
     },
     "execution_count": 14,
     "metadata": {},
     "output_type": "execute_result"
    }
   ],
   "source": [
    "\n",
    "from tools import portfolio_volatility, semi_deviation\n",
    "\n",
    "\n",
    "semi_d=semi_deviation(returns,portfolio=True)\n",
    "downside_risk=portfolio_volatility(weights_to_acheive_returns,semi_d)\n",
    "my_portfolio_sortino=t.portfolio_sortino(my_portfolio_returns,downside_risk,0.03)\n",
    "my_portfolio_sortino"
   ]
  },
  {
   "cell_type": "code",
   "execution_count": 15,
   "metadata": {},
   "outputs": [
    {
     "data": {
      "text/plain": [
       "(0.4939414137786622, 0.06314390122431073)"
      ]
     },
     "execution_count": 15,
     "metadata": {},
     "output_type": "execute_result"
    }
   ],
   "source": [
    "maximim_sharpe_portfolio=t.msr(ar,returns.cov(),0.03)\n",
    "maximim_sharpe_portfolio\n",
    "\n"
   ]
  },
  {
   "cell_type": "code",
   "execution_count": 20,
   "metadata": {},
   "outputs": [
    {
     "data": {
      "text/plain": [
       "7.8224722293289695"
      ]
     },
     "execution_count": 20,
     "metadata": {},
     "output_type": "execute_result"
    }
   ],
   "source": []
  },
  {
   "cell_type": "code",
   "execution_count": null,
   "metadata": {},
   "outputs": [],
   "source": [
    "\n"
   ]
  },
  {
   "cell_type": "code",
   "execution_count": null,
   "metadata": {},
   "outputs": [],
   "source": []
  },
  {
   "cell_type": "code",
   "execution_count": null,
   "metadata": {},
   "outputs": [],
   "source": [
    "\n"
   ]
  },
  {
   "cell_type": "code",
   "execution_count": 17,
   "metadata": {},
   "outputs": [
    {
     "data": {
      "text/plain": [
       "0.030045993126468495"
      ]
     },
     "execution_count": 17,
     "metadata": {},
     "output_type": "execute_result"
    }
   ],
   "source": [
    "((1.00247)**12)-1"
   ]
  },
  {
   "cell_type": "code",
   "execution_count": null,
   "metadata": {},
   "outputs": [],
   "source": []
  },
  {
   "cell_type": "code",
   "execution_count": null,
   "metadata": {},
   "outputs": [],
   "source": []
  },
  {
   "cell_type": "code",
   "execution_count": null,
   "metadata": {},
   "outputs": [],
   "source": []
  },
  {
   "cell_type": "code",
   "execution_count": null,
   "metadata": {},
   "outputs": [],
   "source": [
    "\n"
   ]
  },
  {
   "cell_type": "code",
   "execution_count": null,
   "metadata": {},
   "outputs": [],
   "source": []
  },
  {
   "cell_type": "code",
   "execution_count": 40,
   "metadata": {},
   "outputs": [
    {
     "data": {
      "text/plain": [
       "0.8333333333333334"
      ]
     },
     "execution_count": 40,
     "metadata": {},
     "output_type": "execute_result"
    }
   ],
   "source": []
  },
  {
   "cell_type": "code",
   "execution_count": 41,
   "metadata": {},
   "outputs": [
    {
     "name": "stdout",
     "output_type": "stream",
     "text": [
      "-8.707211207277396\n"
     ]
    }
   ],
   "source": []
  }
 ],
 "metadata": {
  "kernelspec": {
   "display_name": "Python 3.9.12 64-bit",
   "language": "python",
   "name": "python3"
  },
  "language_info": {
   "codemirror_mode": {
    "name": "ipython",
    "version": 3
   },
   "file_extension": ".py",
   "mimetype": "text/x-python",
   "name": "python",
   "nbconvert_exporter": "python",
   "pygments_lexer": "ipython3",
   "version": "3.9.12"
  },
  "orig_nbformat": 4,
  "vscode": {
   "interpreter": {
    "hash": "5ae58900cfbb8c43ab3495913814b7cf26024f51651a94ce8bf64d6111688e8d"
   }
  }
 },
 "nbformat": 4,
 "nbformat_minor": 2
}
